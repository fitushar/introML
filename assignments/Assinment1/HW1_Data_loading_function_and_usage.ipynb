{
 "cells": [
  {
   "cell_type": "markdown",
   "id": "5c0f78bf",
   "metadata": {
    "ExecuteTime": {
     "end_time": "2025-01-15T18:36:12.545453Z",
     "start_time": "2025-01-15T18:36:12.536437Z"
    }
   },
   "source": [
    "Cleaned Automobile Dataset Documentation\n",
    "Dataset Overview:\n",
    "The cleaned automobile dataset is derived from the UCI Machine Learning Repository's [\"Automobile Data Set.\"](https://archive.ics.uci.edu/ml/machine-learning-databases/autos/imports-85.data) This dataset contains various continuous features related to automobile specifications and a target variable (price) representing the price of the car.\n",
    "\n",
    "**File Details:**\n",
    "* File Name: cleaned_automobile_data.pt\n",
    "* File Format: PyTorch .pt file (serialized dictionary)\n",
    "* Size: Varies based on the number of valid observations.\n",
    "* Contents of the File:\n",
    "* The .pt file contains the following keys:\n",
    "\n",
    "* features: PyTorch tensor of shape (n_samples, 13)\n",
    "* Description: Continuous numerical features related to automobile characteristics.\n",
    "* target: PyTorch tensor of shape (n_samples, 1)\n",
    "* Description: Price of the automobile (target variable).\n",
    "* feature_names: List of strings (length 13)\n",
    "* Description: Names of the feature columns:['wheel-base', 'length', 'width', 'height', 'curb-weight', 'engine-size', 'bore', 'stroke', 'compression-ratio', 'horsepower', 'peak-rpm', 'city-mpg', 'highway-mpg']\n",
    "* target_name: String\n",
    "* Description: Name of the target variable (price).\n",
    "\n",
    "**Data Cleaning Details:**\n",
    "* Missing Values Handling: Rows with missing values for any of the 13 continuous features or price were removed.\n",
    "* Continuous Features: Only continuous features relevant to car specifications are retained.\n",
    "* Target Variable: The price column was cleaned and reshaped for use in regression tasks.\n",
    "* Dataset Shape: After cleaning, the dataset contains approximately 195 samples\n",
    "\n",
    "\n",
    "\n"
   ]
  },
  {
   "cell_type": "code",
   "execution_count": 1,
   "id": "9f26053f",
   "metadata": {
    "ExecuteTime": {
     "end_time": "2025-01-15T18:49:43.215481Z",
     "start_time": "2025-01-15T18:49:41.553660Z"
    }
   },
   "outputs": [
    {
     "name": "stdout",
     "output_type": "stream",
     "text": [
      "Loaded dataset successfully!\n",
      "Features shape: torch.Size([195, 13]), Target shape: torch.Size([195, 1])\n",
      "Feature Names: ['wheel-base', 'length', 'width', 'height', 'curb-weight', 'engine-size', 'bore', 'stroke', 'compression-ratio', 'horsepower', 'peak-rpm', 'city-mpg', 'highway-mpg'], Target Name: price\n",
      "First 5 rows of features:\n",
      "tensor([[8.8600e+01, 1.6880e+02, 6.4100e+01, 4.8800e+01, 2.5480e+03, 1.3000e+02,\n",
      "         3.4700e+00, 2.6800e+00, 9.0000e+00, 1.1100e+02, 5.0000e+03, 2.1000e+01,\n",
      "         2.7000e+01],\n",
      "        [8.8600e+01, 1.6880e+02, 6.4100e+01, 4.8800e+01, 2.5480e+03, 1.3000e+02,\n",
      "         3.4700e+00, 2.6800e+00, 9.0000e+00, 1.1100e+02, 5.0000e+03, 2.1000e+01,\n",
      "         2.7000e+01]])\n",
      "First 5 rows of target:\n",
      "tensor([[13495.],\n",
      "        [16500.]])\n"
     ]
    }
   ],
   "source": [
    "import torch\n",
    "\n",
    "# === Step 2: Loading the Dataset === #\n",
    "def load_dataset(file_path):\n",
    "    \"\"\"\n",
    "    Loads the saved PyTorch .pt dataset from the specified file path.\n",
    "\n",
    "    This function reads a dataset saved in PyTorch format and extracts its features, target values, \n",
    "    and relevant metadata. It prints the shapes of the feature matrix and target vector, \n",
    "    as well as the feature and target names.\n",
    "\n",
    "    Parameters:\n",
    "    -----------\n",
    "    file_path : str\n",
    "        The file path to the saved .pt dataset.\n",
    "\n",
    "    Returns:\n",
    "    --------\n",
    "    tuple\n",
    "        A tuple containing:\n",
    "        - features (torch.Tensor): A tensor containing the feature values.\n",
    "        - target (torch.Tensor): A tensor containing the target values.\n",
    "        - feature_names (list of str): A list of names corresponding to the feature columns.\n",
    "        - target_name (str): The name of the target variable.\n",
    "    \n",
    "    Example:\n",
    "    --------\n",
    "    >>> features, target, feature_names, target_name = load_dataset(\"cleaned_automobile_data.pt\")\n",
    "    Loaded dataset successfully!\n",
    "    Features shape: torch.Size([100, 13]), Target shape: torch.Size([100])\n",
    "    Feature Names: ['wheel-base', 'length', 'width', ...], Target Name: 'price'\n",
    "    \"\"\"\n",
    "    dataset = torch.load(file_path)\n",
    "    print(\"Loaded dataset successfully!\")\n",
    "    print(f\"Features shape: {dataset['features'].shape}, Target shape: {dataset['target'].shape}\")\n",
    "    print(f\"Feature Names: {dataset['feature_names']}, Target Name: {dataset['target_name']}\")\n",
    "    return dataset[\"features\"], dataset[\"target\"], dataset[\"feature_names\"], dataset[\"target_name\"]\n",
    "\n",
    "if __name__ == \"__main__\":\n",
    "\n",
    "    #Load the dataset and display information\n",
    "    features, target, feature_names, target_name = load_dataset(\"cleaned_automobile_data.pt\")\n",
    "    print(f\"First 5 rows of features:\\n{features[:2]}\")\n",
    "    print(f\"First 5 rows of target:\\n{target[:2]}\")\n",
    "    "
   ]
  },
  {
   "cell_type": "code",
   "execution_count": null,
   "id": "0be7a20a",
   "metadata": {},
   "outputs": [],
   "source": []
  }
 ],
 "metadata": {
  "kernelspec": {
   "display_name": "Python 3 (ipykernel)",
   "language": "python",
   "name": "python3"
  },
  "language_info": {
   "codemirror_mode": {
    "name": "ipython",
    "version": 3
   },
   "file_extension": ".py",
   "mimetype": "text/x-python",
   "name": "python",
   "nbconvert_exporter": "python",
   "pygments_lexer": "ipython3",
   "version": "3.8.12"
  },
  "toc": {
   "base_numbering": 1,
   "nav_menu": {},
   "number_sections": true,
   "sideBar": true,
   "skip_h1_title": false,
   "title_cell": "Table of Contents",
   "title_sidebar": "Contents",
   "toc_cell": false,
   "toc_position": {},
   "toc_section_display": true,
   "toc_window_display": false
  },
  "varInspector": {
   "cols": {
    "lenName": 16,
    "lenType": 16,
    "lenVar": 40
   },
   "kernels_config": {
    "python": {
     "delete_cmd_postfix": "",
     "delete_cmd_prefix": "del ",
     "library": "var_list.py",
     "varRefreshCmd": "print(var_dic_list())"
    },
    "r": {
     "delete_cmd_postfix": ") ",
     "delete_cmd_prefix": "rm(",
     "library": "var_list.r",
     "varRefreshCmd": "cat(var_dic_list()) "
    }
   },
   "types_to_exclude": [
    "module",
    "function",
    "builtin_function_or_method",
    "instance",
    "_Feature"
   ],
   "window_display": false
  }
 },
 "nbformat": 4,
 "nbformat_minor": 5
}
